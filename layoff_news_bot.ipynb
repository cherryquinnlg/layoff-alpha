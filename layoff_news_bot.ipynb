{
 "cells": [
  {
   "cell_type": "code",
   "execution_count": 1,
   "id": "29dc694e-01f4-4684-ba96-a7276514a7be",
   "metadata": {},
   "outputs": [],
   "source": [
    "import pandas as pd\n",
    "import matplotlib.pyplot as plt\n",
    "import yfinance as yf\n",
    "import statsmodels.api as sm\n",
    "import pytz\n",
    "from cycler import cycler\n",
    "import warnings\n",
    "import pandas_market_calendars as mcal\n",
    "import numpy as np\n",
    "import seaborn as sns\n",
    "import backtrader\n",
    "import bt\n",
    "from datetime import datetime, timedelta\n",
    "from yahooquery import search\n",
    "import pickle\n",
    "import time\n",
    "import os\n",
    "from collections import defaultdict\n",
    "import glob\n",
    "\n",
    "from twilio.rest import Client"
   ]
  },
  {
   "cell_type": "code",
   "execution_count": 8,
   "id": "8d6cabba-b48d-41a6-bd11-fdf1096c15ba",
   "metadata": {},
   "outputs": [],
   "source": [
    "from newsapi.newsapi_client import NewsApiClient"
   ]
  },
  {
   "cell_type": "code",
   "execution_count": 13,
   "id": "ad8e6f8d-2cb5-4bf5-bc2e-30bc1c93ca0d",
   "metadata": {},
   "outputs": [],
   "source": [
    "# Initialize the client\n",
    "newsapi = NewsApiClient(api_key=API_KEY)\n",
    "\n",
    "def get_top_headlines(query=None, language='en', page_size=5):\n",
    "    \"\"\"Fetch top news headlines.\"\"\"\n",
    "    top_headlines = newsapi.get_top_headlines(q=query, language=language, page_size=page_size, category=\"technology\")\n",
    "    return top_headlines['articles']\n",
    "\n",
    "\n"
   ]
  },
  {
   "cell_type": "code",
   "execution_count": 27,
   "id": "0cf26add-bded-49ed-b431-7c41ac362d89",
   "metadata": {},
   "outputs": [],
   "source": [
    "def search_news(query, language='en', page_size=10):\n",
    "    \"\"\"Search news articles that mention a specific topic or keyword.\"\"\"\n",
    "    all_articles = newsapi.get_everything(q=query, language=language, page_size=page_size)\n",
    "    return all_articles['articles']"
   ]
  },
  {
   "cell_type": "code",
   "execution_count": 29,
   "id": "bf4596b1-1c5b-4d5c-93a9-91692731eb54",
   "metadata": {},
   "outputs": [
    {
     "data": {
      "text/plain": [
       "[{'source': {'id': 'business-insider', 'name': 'Business Insider'},\n",
       "  'author': 'Robin Madell',\n",
       "  'title': \"I was laid off twice and ghosted more times than I can count. After heading down a dark spiral, here's how I bounced back.\",\n",
       "  'description': 'Alex Cheney was laid off from two recruiting roles in a year. After getting ghosted for most of the new roles he applied to, he started a business.',\n",
       "  'url': 'https://www.businessinsider.com/how-started-business-after-getting-laid-off-twice-2023-9',\n",
       "  'urlToImage': 'https://i.insider.com/6504bce65f9f9c0019b43d53?width=1200&format=jpeg',\n",
       "  'publishedAt': '2023-09-19T09:06:01Z',\n",
       "  'content': 'Alex Cheney.Courtesy of Alex Cheney\\r\\n<ul><li>Alex Cheney was laid off from recruiting roles at Sendoso and Atlassian within one year.</li><li>He faced high competition, rejection, and ghosting during… [+7256 chars]'},\n",
       " {'source': {'id': 'business-insider', 'name': 'Business Insider'},\n",
       "  'author': 'Madison Hoff,Lakshmi Varanasi',\n",
       "  'title': \"Companies are shuffling people around more than they were a year ago. Here's how to know what your reassignment really means.\",\n",
       "  'description': \"Companies are reassigning many roles within their organizations. Here's what that usually means for you as you navigate the corporate world.\",\n",
       "  'url': 'https://www.businessinsider.com/companies-reassigning-more-than-year-ago-job-change-2023-8',\n",
       "  'urlToImage': 'https://i.insider.com/64efaea36f301e00193e8b2d?width=1200&format=jpeg',\n",
       "  'publishedAt': '2023-09-01T10:30:01Z',\n",
       "  'content': 'millionsjoker/Getty Images\\r\\n<ul>\\n<li>Companies have been moving employees around internally more frequently, per LinkedIn data.</li>\\n<li>Some people may be moved because of promotions, others because… [+5415 chars]'},\n",
       " {'source': {'id': None, 'name': 'Yahoo Entertainment'},\n",
       "  'author': 'Ed Ludlow and Joel Rosenblatt',\n",
       "  'title': 'Twitter Mass Layoff Severance Fight Heads to Settlement Talks',\n",
       "  'description': '(Bloomberg) -- Elon Musk’s X Corp. has agreed to try to settle claims by thousands of former Twitter employees who say they were cheated of severance pay...',\n",
       "  'url': 'https://finance.yahoo.com/news/twitter-mass-layoff-severance-fight-025816020.html',\n",
       "  'urlToImage': 'https://s.yimg.com/ny/api/res/1.2/hCgaC98kEa02sH3PKeBCKg--/YXBwaWQ9aGlnaGxhbmRlcjt3PTEyMDA7aD03OTk-/https://media.zenfs.com/en/bloomberg_technology_68/9f042155ee6269ca06653240f1345640',\n",
       "  'publishedAt': '2023-09-14T02:58:16Z',\n",
       "  'content': '(Bloomberg) -- Elon Musks X Corp. has agreed to try to settle claims by thousands of former Twitter employees who say they were cheated of severance pay when the billionaire laid them off after acqui… [+1550 chars]'},\n",
       " {'source': {'id': None, 'name': 'NPR'},\n",
       "  'author': 'Andrea Hsu',\n",
       "  'title': 'UAW strike Day 5: New Friday deadline set, in latest turn in union strategy',\n",
       "  'description': \"For the first time, the UAW is on strike against the Big 3 U.S. automakers at once. Workers at three plants have been called out so far, with more to follow Friday if there's no progress on a deal.\",\n",
       "  'url': 'https://www.npr.org/2023/09/19/1200198072/uaw-strikes-strategy-shawn-fain-labor-big-3-detroit',\n",
       "  'urlToImage': 'https://media.npr.org/assets/img/2023/09/18/gettyimages-1668654392_wide-22939accdab7984412746072b197ef826056e6f5-s1400-c100.jpg',\n",
       "  'publishedAt': '2023-09-19T04:02:06Z',\n",
       "  'content': 'United Auto Workers members attend a solidarity rally as the UAW strikes the Big Three automakers on September 15, 2023 in Detroit, Michigan.\\r\\nBill Pugliano/Getty Images\\r\\nAs autoworkers enter a fifth… [+4218 chars]'},\n",
       " {'source': {'id': None, 'name': 'Blogger.com'},\n",
       "  'author': 'Calculated Risk',\n",
       "  'title': 'BLS: Job Openings Decreased to 8.8 million in July',\n",
       "  'description': None,\n",
       "  'url': 'https://www.blogger.com/comment.g?blogID=10004977&postID=7882115083756450548&bpli=1',\n",
       "  'urlToImage': None,\n",
       "  'publishedAt': '2023-08-29T14:00:00Z',\n",
       "  'content': 'From the BLS: Job Openings and Labor Turnover SummaryThe number of job openings edged down to 8.8 million on the last business day of July, the U.S. Bureau \\r\\nof Labor Statistics reported today. Over … [+1389 chars]'}]"
      ]
     },
     "execution_count": 29,
     "metadata": {},
     "output_type": "execute_result"
    }
   ],
   "source": [
    "search_news(\"layoff\", language='en', page_size=5)"
   ]
  },
  {
   "cell_type": "code",
   "execution_count": null,
   "id": "f97c04ac-cdd6-4369-8115-92808025dcdf",
   "metadata": {},
   "outputs": [
    {
     "data": {
      "text/plain": [
       "[]"
      ]
     },
     "execution_count": 18,
     "metadata": {},
     "output_type": "execute_result"
    }
   ],
   "source": [
    "get_top_headlines(query=\"laid off\", language='en', page_size=10)"
   ]
  },
  {
   "cell_type": "code",
   "execution_count": 34,
   "id": "481fb743-fd78-4be7-853e-4fe5db5be3ce",
   "metadata": {},
   "outputs": [
    {
     "name": "stdout",
     "output_type": "stream",
     "text": [
      "SMca0d1f7395e87b04d6a8079b24ed4369\n"
     ]
    }
   ],
   "source": [
    "# import twilio\n",
    "\n",
    "SID = \"SECRET\"\n",
    "AUTH_TOKEN = \"SECRET\"\n",
    "# Create a Twilio client\n",
    "client = Client(SID, AUTH_TOKEN)\n",
    "\n",
    "# Send the SMS message\n",
    "message = client.messages.create(\n",
    "    to=\"+111111111\",\n",
    "    from_=\"+11111111111\",\n",
    "    body=\"This is a message to myself.\")\n",
    "\n",
    "# Print the message ID\n",
    "print(message.sid)"
   ]
  },
  {
   "cell_type": "markdown",
   "metadata": {
    "collapsed": false
   },
   "source": []
  }
 ],
 "metadata": {
  "kernelspec": {
   "display_name": "Python 3 (ipykernel)",
   "language": "python",
   "name": "python3"
  },
  "language_info": {
   "codemirror_mode": {
    "name": "ipython",
    "version": 3
   },
   "file_extension": ".py",
   "mimetype": "text/x-python",
   "name": "python",
   "nbconvert_exporter": "python",
   "pygments_lexer": "ipython3",
   "version": "3.10.10"
  }
 },
 "nbformat": 4,
 "nbformat_minor": 5
}
